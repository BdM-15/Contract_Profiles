{
 "cells": [
  {
   "cell_type": "markdown",
   "metadata": {},
   "source": [
    "This is the code for the OSBP-RI Contract Profile."
   ]
  },
  {
   "cell_type": "markdown",
   "metadata": {},
   "source": [
    "The following module contains all the functions provided to read the data, clean it, transform it, and populate profiles for each targeted contract identified."
   ]
  },
  {
   "cell_type": "code",
   "execution_count": 2,
   "metadata": {},
   "outputs": [],
   "source": [
    "import osbp_optimized as sb"
   ]
  },
  {
   "cell_type": "markdown",
   "metadata": {},
   "source": [
    "This is the initial raw data cleanse for the two main data sources.  ACC-RI data source and Army data source. \n",
    "\n",
    "Convert the raw data folder location and the file pattern to search for the latest file in the raw data folder.  \n",
    "\n",
    "This function will first check to see if the file is older than 30 days.  If < 30, skips the cleanse and transform process.  If > 30, it will convert the file to a csv and then cleanse and transform the data.  The final file will be saved in the interim data folder. https://x.com/i/grok/share/1qrwk5gLfh8orhxLslTG1fAdE"
   ]
  },
  {
   "cell_type": "code",
   "execution_count": 3,
   "metadata": {},
   "outputs": [],
   "source": [
    "#df = sb.pd.read_excel(r'C:\\PyProjects\\contract_profiles\\data\\raw\\raw_army_data_source_file.xlsx')\n",
    "df_army = sb.pd.read_excel(sb.common_folders['raw_army_data_source_file'])\n",
    "# df_acc_ri = sb.pd.read_excel(sb.common_folders['raw_acc_ri_data_source_file'])"
   ]
  },
  {
   "cell_type": "code",
   "execution_count": 5,
   "metadata": {},
   "outputs": [],
   "source": [
    "df_army.to_csv(sb.os.path.join(sb.common_folders['raw_data_folder'],'raw_army_data_source.csv'), index=False)"
   ]
  },
  {
   "cell_type": "code",
   "execution_count": null,
   "metadata": {},
   "outputs": [],
   "source": [
    "df_army = sb.pd.read_csv(sb.common_folders['raw_army_data_source_file'])"
   ]
  },
  {
   "cell_type": "code",
   "execution_count": 6,
   "metadata": {},
   "outputs": [
    {
     "name": "stdout",
     "output_type": "stream",
     "text": [
      "Memory usage: 1301.60 MB\n"
     ]
    }
   ],
   "source": [
    "df_army.shape\n",
    "# Calculate memory usage in bytes and convert to megabytes\n",
    "memory_usage_bytes = df_army.memory_usage(deep=True).sum()\n",
    "memory_usage_mb = memory_usage_bytes / (1024 ** 2)\n",
    "\n",
    "print(f\"Memory usage: {memory_usage_mb:.2f} MB\")"
   ]
  },
  {
   "cell_type": "code",
   "execution_count": 7,
   "metadata": {},
   "outputs": [
    {
     "data": {
      "text/plain": [
       "Index(['Contract No', 'Order No', 'Modification No', 'Award Date',\n",
       "       'Fiscal Year', 'Command', 'Sub Command', 'Organization', 'Office',\n",
       "       'Office Id', 'Army Hierarchy', 'PEO/Command', 'PM/Directorate',\n",
       "       'VCE-PCF Project/Program Title', 'Funding Office Id',\n",
       "       'Funding Office Name', '13GG Legal Business Name (UEI)',\n",
       "       'Entity Unique Id', 'Small Business Eligible Actions',\n",
       "       'Small Business Eligible Dollars', 'Small Business Actions',\n",
       "       'Small Business Dollars', 'Small Business  %', 'SDB Concern Actions',\n",
       "       'SDB Concern Dollars', 'SDB Concern %',\n",
       "       'Service Disabled Veterans Actions',\n",
       "       'Service Disabled Veterans Dollars', 'SVC Disabled Veteran %',\n",
       "       'Women Owned Actions', 'Women Owned Dollars', 'Women Owned %',\n",
       "       'HUB Zone Actions', 'HUB Zone Dollars', 'HUB Zone %', 'OMB Level 1',\n",
       "       'OMB Level 2', 'PSC', 'PSC Description', 'NAICS', 'NAICS Description',\n",
       "       'Congressional District - Vendor', 'Congressional District - POP',\n",
       "       'Subcontracting Plan Description', 'National Interest Description',\n",
       "       'SBIR/STTR Type', 'Bundling', 'Contract Expiration Flag',\n",
       "       'Current Completion Date', 'Awarding PCO (CWS)',\n",
       "       '10N Type Set Aside Description', '6M Description of Requirement',\n",
       "       '12C Reason for Modification Description', 'Contract Action Type',\n",
       "       'Instrument Type'],\n",
       "      dtype='object')"
      ]
     },
     "execution_count": 7,
     "metadata": {},
     "output_type": "execute_result"
    }
   ],
   "source": [
    "df_army.columns"
   ]
  },
  {
   "cell_type": "code",
   "execution_count": 8,
   "metadata": {},
   "outputs": [
    {
     "data": {
      "text/html": [
       "<div>\n",
       "<style scoped>\n",
       "    .dataframe tbody tr th:only-of-type {\n",
       "        vertical-align: middle;\n",
       "    }\n",
       "\n",
       "    .dataframe tbody tr th {\n",
       "        vertical-align: top;\n",
       "    }\n",
       "\n",
       "    .dataframe thead th {\n",
       "        text-align: right;\n",
       "    }\n",
       "</style>\n",
       "<table border=\"1\" class=\"dataframe\">\n",
       "  <thead>\n",
       "    <tr style=\"text-align: right;\">\n",
       "      <th></th>\n",
       "      <th>Small Business Actions</th>\n",
       "      <th>NAICS</th>\n",
       "      <th>Contract Action Type</th>\n",
       "    </tr>\n",
       "  </thead>\n",
       "  <tbody>\n",
       "    <tr>\n",
       "      <th>0</th>\n",
       "      <td>0</td>\n",
       "      <td>459410.0</td>\n",
       "      <td>CONTRACT/PURCHASE ORDER</td>\n",
       "    </tr>\n",
       "    <tr>\n",
       "      <th>1</th>\n",
       "      <td>0</td>\n",
       "      <td>921190.0</td>\n",
       "      <td>CONTRACT/PURCHASE ORDER</td>\n",
       "    </tr>\n",
       "    <tr>\n",
       "      <th>2</th>\n",
       "      <td>0</td>\n",
       "      <td>541519.0</td>\n",
       "      <td>CONTRACT/PURCHASE ORDER</td>\n",
       "    </tr>\n",
       "    <tr>\n",
       "      <th>3</th>\n",
       "      <td>0</td>\n",
       "      <td>541519.0</td>\n",
       "      <td>CONTRACT/PURCHASE ORDER</td>\n",
       "    </tr>\n",
       "    <tr>\n",
       "      <th>4</th>\n",
       "      <td>0</td>\n",
       "      <td>541519.0</td>\n",
       "      <td>CONTRACT/PURCHASE ORDER</td>\n",
       "    </tr>\n",
       "    <tr>\n",
       "      <th>...</th>\n",
       "      <td>...</td>\n",
       "      <td>...</td>\n",
       "      <td>...</td>\n",
       "    </tr>\n",
       "    <tr>\n",
       "      <th>563355</th>\n",
       "      <td>0</td>\n",
       "      <td>237310.0</td>\n",
       "      <td>MODIFICATION</td>\n",
       "    </tr>\n",
       "    <tr>\n",
       "      <th>563356</th>\n",
       "      <td>0</td>\n",
       "      <td>325412.0</td>\n",
       "      <td>MODIFICATION</td>\n",
       "    </tr>\n",
       "    <tr>\n",
       "      <th>563357</th>\n",
       "      <td>0</td>\n",
       "      <td>325412.0</td>\n",
       "      <td>MODIFICATION</td>\n",
       "    </tr>\n",
       "    <tr>\n",
       "      <th>563358</th>\n",
       "      <td>0</td>\n",
       "      <td>336992.0</td>\n",
       "      <td>MODIFICATION</td>\n",
       "    </tr>\n",
       "    <tr>\n",
       "      <th>563359</th>\n",
       "      <td>0</td>\n",
       "      <td>325414.0</td>\n",
       "      <td>MODIFICATION</td>\n",
       "    </tr>\n",
       "  </tbody>\n",
       "</table>\n",
       "<p>563360 rows × 3 columns</p>\n",
       "</div>"
      ],
      "text/plain": [
       "        Small Business Actions     NAICS     Contract Action Type\n",
       "0                            0  459410.0  CONTRACT/PURCHASE ORDER\n",
       "1                            0  921190.0  CONTRACT/PURCHASE ORDER\n",
       "2                            0  541519.0  CONTRACT/PURCHASE ORDER\n",
       "3                            0  541519.0  CONTRACT/PURCHASE ORDER\n",
       "4                            0  541519.0  CONTRACT/PURCHASE ORDER\n",
       "...                        ...       ...                      ...\n",
       "563355                       0  237310.0             MODIFICATION\n",
       "563356                       0  325412.0             MODIFICATION\n",
       "563357                       0  325412.0             MODIFICATION\n",
       "563358                       0  336992.0             MODIFICATION\n",
       "563359                       0  325414.0             MODIFICATION\n",
       "\n",
       "[563360 rows x 3 columns]"
      ]
     },
     "execution_count": 8,
     "metadata": {},
     "output_type": "execute_result"
    }
   ],
   "source": [
    "# Drop columns that are not needed\n",
    "df_army.drop(columns=['Contract No', 'Order No', 'Modification No', 'Award Date',\n",
    "       'Fiscal Year', 'Command', 'Sub Command', 'Organization', 'Office',\n",
    "       'Office Id', 'Army Hierarchy', 'PEO/Command', 'PM/Directorate',\n",
    "       'VCE-PCF Project/Program Title', 'Funding Office Id',\n",
    "       'Funding Office Name', '13GG Legal Business Name (UEI)',\n",
    "       'Entity Unique Id', 'Small Business Eligible Actions',\n",
    "       'Small Business Eligible Dollars', 'Small Business Dollars', 'Small Business  %', 'SDB Concern Actions',\n",
    "       'SDB Concern Dollars', 'SDB Concern %',\n",
    "       'Service Disabled Veterans Actions',\n",
    "       'Service Disabled Veterans Dollars', 'SVC Disabled Veteran %',\n",
    "       'Women Owned Actions', 'Women Owned Dollars', 'Women Owned %',\n",
    "       'HUB Zone Actions', 'HUB Zone Dollars', 'HUB Zone %', 'OMB Level 1',\n",
    "       'OMB Level 2', 'PSC', 'PSC Description', 'NAICS Description',\n",
    "       'Congressional District - Vendor', 'Congressional District - POP',\n",
    "       'Subcontracting Plan Description', 'National Interest Description',\n",
    "       'SBIR/STTR Type', 'Bundling', 'Contract Expiration Flag',\n",
    "       'Current Completion Date', 'Awarding PCO (CWS)',\n",
    "       '10N Type Set Aside Description', '6M Description of Requirement',\n",
    "       '12C Reason for Modification Description', 'Instrument Type'])"
   ]
  },
  {
   "cell_type": "code",
   "execution_count": 9,
   "metadata": {},
   "outputs": [
    {
     "name": "stdout",
     "output_type": "stream",
     "text": [
      "Memory usage: 1301.60 MB\n"
     ]
    }
   ],
   "source": [
    "df_army.shape\n",
    "# Calculate memory usage in bytes and convert to megabytes\n",
    "memory_usage_bytes = df_army.memory_usage(deep=True).sum()\n",
    "memory_usage_mb = memory_usage_bytes / (1024 ** 2)\n",
    "\n",
    "print(f\"Memory usage: {memory_usage_mb:.2f} MB\")"
   ]
  },
  {
   "cell_type": "code",
   "execution_count": 10,
   "metadata": {},
   "outputs": [
    {
     "name": "stdout",
     "output_type": "stream",
     "text": [
      "<class 'pandas.core.frame.DataFrame'>\n",
      "RangeIndex: 563360 entries, 0 to 563359\n",
      "Data columns (total 55 columns):\n",
      " #   Column                                   Non-Null Count   Dtype         \n",
      "---  ------                                   --------------   -----         \n",
      " 0   Contract No                              563360 non-null  object        \n",
      " 1   Order No                                 563360 non-null  object        \n",
      " 2   Modification No                          563360 non-null  object        \n",
      " 3   Award Date                               563360 non-null  datetime64[ns]\n",
      " 4   Fiscal Year                              563360 non-null  int64         \n",
      " 5   Command                                  563355 non-null  object        \n",
      " 6   Sub Command                              563355 non-null  object        \n",
      " 7   Organization                             563355 non-null  object        \n",
      " 8   Office                                   563355 non-null  object        \n",
      " 9   Office Id                                563360 non-null  object        \n",
      " 10  Army Hierarchy                           551455 non-null  object        \n",
      " 11  PEO/Command                              551455 non-null  object        \n",
      " 12  PM/Directorate                           551455 non-null  object        \n",
      " 13  VCE-PCF Project/Program Title            197903 non-null  object        \n",
      " 14  Funding Office Id                        563360 non-null  object        \n",
      " 15  Funding Office Name                      505935 non-null  object        \n",
      " 16  13GG Legal Business Name (UEI)           563217 non-null  object        \n",
      " 17  Entity Unique Id                         563217 non-null  object        \n",
      " 18  Small Business Eligible Actions          563360 non-null  int64         \n",
      " 19  Small Business Eligible Dollars          563360 non-null  float64       \n",
      " 20  Small Business Actions                   563360 non-null  int64         \n",
      " 21  Small Business Dollars                   563360 non-null  float64       \n",
      " 22  Small Business  %                        563360 non-null  object        \n",
      " 23  SDB Concern Actions                      563360 non-null  int64         \n",
      " 24  SDB Concern Dollars                      563360 non-null  float64       \n",
      " 25  SDB Concern %                            563360 non-null  object        \n",
      " 26  Service Disabled Veterans Actions        563360 non-null  int64         \n",
      " 27  Service Disabled Veterans Dollars        563360 non-null  float64       \n",
      " 28  SVC Disabled Veteran %                   563360 non-null  object        \n",
      " 29  Women Owned Actions                      563360 non-null  int64         \n",
      " 30  Women Owned Dollars                      563360 non-null  float64       \n",
      " 31  Women Owned %                            563360 non-null  object        \n",
      " 32  HUB Zone Actions                         563360 non-null  int64         \n",
      " 33  HUB Zone Dollars                         563360 non-null  float64       \n",
      " 34  HUB Zone %                               563360 non-null  object        \n",
      " 35  OMB Level 1                              563360 non-null  object        \n",
      " 36  OMB Level 2                              563360 non-null  object        \n",
      " 37  PSC                                      563360 non-null  object        \n",
      " 38  PSC Description                          562966 non-null  object        \n",
      " 39  NAICS                                    563243 non-null  float64       \n",
      " 40  NAICS Description                        563243 non-null  object        \n",
      " 41  Congressional District - Vendor          545474 non-null  float64       \n",
      " 42  Congressional District - POP             507642 non-null  float64       \n",
      " 43  Subcontracting Plan Description          533665 non-null  object        \n",
      " 44  National Interest Description            447278 non-null  object        \n",
      " 45  SBIR/STTR Type                           8584 non-null    object        \n",
      " 46  Bundling                                 563181 non-null  object        \n",
      " 47  Contract Expiration Flag                 563360 non-null  object        \n",
      " 48  Current Completion Date                  563360 non-null  object        \n",
      " 49  Awarding PCO (CWS)                       546271 non-null  object        \n",
      " 50  10N Type Set Aside Description           305799 non-null  object        \n",
      " 51  6M Description of Requirement            563344 non-null  object        \n",
      " 52  12C Reason for Modification Description  375849 non-null  object        \n",
      " 53  Contract Action Type                     563360 non-null  object        \n",
      " 54  Instrument Type                          563360 non-null  object        \n",
      "dtypes: datetime64[ns](1), float64(9), int64(7), object(38)\n",
      "memory usage: 236.4+ MB\n"
     ]
    }
   ],
   "source": [
    "df_army.info()"
   ]
  },
  {
   "cell_type": "code",
   "execution_count": null,
   "metadata": {},
   "outputs": [],
   "source": [
    "sb.convert_raw_data_from_excel_to_csv()"
   ]
  },
  {
   "cell_type": "code",
   "execution_count": null,
   "metadata": {},
   "outputs": [],
   "source": [
    "sb.clean_and_transform_data_for_contract_profiles()"
   ]
  },
  {
   "cell_type": "code",
   "execution_count": null,
   "metadata": {},
   "outputs": [],
   "source": [
    "sb.insights_unrestricted_awarded_to_sb()"
   ]
  },
  {
   "cell_type": "code",
   "execution_count": null,
   "metadata": {},
   "outputs": [],
   "source": [
    "sb.insights_sbsa_with_potential_for_socio_set_aside()"
   ]
  },
  {
   "cell_type": "code",
   "execution_count": null,
   "metadata": {},
   "outputs": [],
   "source": [
    "sb.insights_8a_with_exit_before_expiration()"
   ]
  }
 ],
 "metadata": {
  "kernelspec": {
   "display_name": "base",
   "language": "python",
   "name": "python3"
  },
  "language_info": {
   "codemirror_mode": {
    "name": "ipython",
    "version": 3
   },
   "file_extension": ".py",
   "mimetype": "text/x-python",
   "name": "python",
   "nbconvert_exporter": "python",
   "pygments_lexer": "ipython3",
   "version": "3.12.7"
  }
 },
 "nbformat": 4,
 "nbformat_minor": 2
}
