{
 "cells": [
  {
   "cell_type": "markdown",
   "metadata": {},
   "source": [
    "This is the code for the OSBP-RI Contract Profile."
   ]
  },
  {
   "cell_type": "markdown",
   "metadata": {},
   "source": [
    "The following module contains all the functions provided to read the data, clean it, transform it, and populate profiles for each targeted contract identified."
   ]
  },
  {
   "cell_type": "code",
   "execution_count": 2,
   "metadata": {},
   "outputs": [],
   "source": [
    "import osbp_optimized as sb"
   ]
  },
  {
   "cell_type": "markdown",
   "metadata": {},
   "source": [
    "This is the initial raw data cleanse for the two main data sources.  ACC-RI data source and Army data source. \n",
    "\n",
    "Convert the raw data folder location and the file pattern to search for the latest file in the raw data folder.  \n",
    "\n",
    "This function will first check to see if the file is older than 30 days.  If < 30, skips the cleanse and transform process.  If > 30, it will convert the file to a csv and then cleanse and transform the data.  The final file will be saved in the interim data folder. https://x.com/i/grok/share/1qrwk5gLfh8orhxLslTG1fAdE"
   ]
  },
  {
   "cell_type": "code",
   "execution_count": 3,
   "metadata": {},
   "outputs": [],
   "source": [
    "#df = sb.pd.read_excel(r'C:\\PyProjects\\contract_profiles\\data\\raw\\raw_army_data_source_file.xlsx')\n",
    "df_army = sb.pd.read_excel(sb.common_folders['raw_army_data_source_file'])\n",
    "# df_acc_ri = sb.pd.read_excel(sb.common_folders['raw_acc_ri_data_source_file'])"
   ]
  },
  {
   "cell_type": "code",
   "execution_count": 5,
   "metadata": {},
   "outputs": [],
   "source": [
    "df_army.to_csv(sb.os.path.join(sb.common_folders['raw_data_folder'],'raw_army_data_source.csv'), index=False)"
   ]
  },
  {
   "cell_type": "code",
   "execution_count": 10,
   "metadata": {},
   "outputs": [
    {
     "ename": "UnicodeDecodeError",
     "evalue": "'utf-8' codec can't decode byte 0x9d in position 15: invalid start byte",
     "output_type": "error",
     "traceback": [
      "\u001b[1;31m---------------------------------------------------------------------------\u001b[0m",
      "\u001b[1;31mUnicodeDecodeError\u001b[0m                        Traceback (most recent call last)",
      "Cell \u001b[1;32mIn[10], line 1\u001b[0m\n\u001b[1;32m----> 1\u001b[0m df_army \u001b[38;5;241m=\u001b[39m sb\u001b[38;5;241m.\u001b[39mpd\u001b[38;5;241m.\u001b[39mread_csv(sb\u001b[38;5;241m.\u001b[39mcommon_folders[\u001b[38;5;124m'\u001b[39m\u001b[38;5;124mraw_army_data_source_file\u001b[39m\u001b[38;5;124m'\u001b[39m])\n",
      "File \u001b[1;32mc:\\Users\\ACAP2023\\anaconda3\\Lib\\site-packages\\pandas\\io\\parsers\\readers.py:1026\u001b[0m, in \u001b[0;36mread_csv\u001b[1;34m(filepath_or_buffer, sep, delimiter, header, names, index_col, usecols, dtype, engine, converters, true_values, false_values, skipinitialspace, skiprows, skipfooter, nrows, na_values, keep_default_na, na_filter, verbose, skip_blank_lines, parse_dates, infer_datetime_format, keep_date_col, date_parser, date_format, dayfirst, cache_dates, iterator, chunksize, compression, thousands, decimal, lineterminator, quotechar, quoting, doublequote, escapechar, comment, encoding, encoding_errors, dialect, on_bad_lines, delim_whitespace, low_memory, memory_map, float_precision, storage_options, dtype_backend)\u001b[0m\n\u001b[0;32m   1013\u001b[0m kwds_defaults \u001b[38;5;241m=\u001b[39m _refine_defaults_read(\n\u001b[0;32m   1014\u001b[0m     dialect,\n\u001b[0;32m   1015\u001b[0m     delimiter,\n\u001b[1;32m   (...)\u001b[0m\n\u001b[0;32m   1022\u001b[0m     dtype_backend\u001b[38;5;241m=\u001b[39mdtype_backend,\n\u001b[0;32m   1023\u001b[0m )\n\u001b[0;32m   1024\u001b[0m kwds\u001b[38;5;241m.\u001b[39mupdate(kwds_defaults)\n\u001b[1;32m-> 1026\u001b[0m \u001b[38;5;28;01mreturn\u001b[39;00m _read(filepath_or_buffer, kwds)\n",
      "File \u001b[1;32mc:\\Users\\ACAP2023\\anaconda3\\Lib\\site-packages\\pandas\\io\\parsers\\readers.py:620\u001b[0m, in \u001b[0;36m_read\u001b[1;34m(filepath_or_buffer, kwds)\u001b[0m\n\u001b[0;32m    617\u001b[0m _validate_names(kwds\u001b[38;5;241m.\u001b[39mget(\u001b[38;5;124m\"\u001b[39m\u001b[38;5;124mnames\u001b[39m\u001b[38;5;124m\"\u001b[39m, \u001b[38;5;28;01mNone\u001b[39;00m))\n\u001b[0;32m    619\u001b[0m \u001b[38;5;66;03m# Create the parser.\u001b[39;00m\n\u001b[1;32m--> 620\u001b[0m parser \u001b[38;5;241m=\u001b[39m TextFileReader(filepath_or_buffer, \u001b[38;5;241m*\u001b[39m\u001b[38;5;241m*\u001b[39mkwds)\n\u001b[0;32m    622\u001b[0m \u001b[38;5;28;01mif\u001b[39;00m chunksize \u001b[38;5;129;01mor\u001b[39;00m iterator:\n\u001b[0;32m    623\u001b[0m     \u001b[38;5;28;01mreturn\u001b[39;00m parser\n",
      "File \u001b[1;32mc:\\Users\\ACAP2023\\anaconda3\\Lib\\site-packages\\pandas\\io\\parsers\\readers.py:1620\u001b[0m, in \u001b[0;36mTextFileReader.__init__\u001b[1;34m(self, f, engine, **kwds)\u001b[0m\n\u001b[0;32m   1617\u001b[0m     \u001b[38;5;28mself\u001b[39m\u001b[38;5;241m.\u001b[39moptions[\u001b[38;5;124m\"\u001b[39m\u001b[38;5;124mhas_index_names\u001b[39m\u001b[38;5;124m\"\u001b[39m] \u001b[38;5;241m=\u001b[39m kwds[\u001b[38;5;124m\"\u001b[39m\u001b[38;5;124mhas_index_names\u001b[39m\u001b[38;5;124m\"\u001b[39m]\n\u001b[0;32m   1619\u001b[0m \u001b[38;5;28mself\u001b[39m\u001b[38;5;241m.\u001b[39mhandles: IOHandles \u001b[38;5;241m|\u001b[39m \u001b[38;5;28;01mNone\u001b[39;00m \u001b[38;5;241m=\u001b[39m \u001b[38;5;28;01mNone\u001b[39;00m\n\u001b[1;32m-> 1620\u001b[0m \u001b[38;5;28mself\u001b[39m\u001b[38;5;241m.\u001b[39m_engine \u001b[38;5;241m=\u001b[39m \u001b[38;5;28mself\u001b[39m\u001b[38;5;241m.\u001b[39m_make_engine(f, \u001b[38;5;28mself\u001b[39m\u001b[38;5;241m.\u001b[39mengine)\n",
      "File \u001b[1;32mc:\\Users\\ACAP2023\\anaconda3\\Lib\\site-packages\\pandas\\io\\parsers\\readers.py:1898\u001b[0m, in \u001b[0;36mTextFileReader._make_engine\u001b[1;34m(self, f, engine)\u001b[0m\n\u001b[0;32m   1895\u001b[0m     \u001b[38;5;28;01mraise\u001b[39;00m \u001b[38;5;167;01mValueError\u001b[39;00m(msg)\n\u001b[0;32m   1897\u001b[0m \u001b[38;5;28;01mtry\u001b[39;00m:\n\u001b[1;32m-> 1898\u001b[0m     \u001b[38;5;28;01mreturn\u001b[39;00m mapping[engine](f, \u001b[38;5;241m*\u001b[39m\u001b[38;5;241m*\u001b[39m\u001b[38;5;28mself\u001b[39m\u001b[38;5;241m.\u001b[39moptions)\n\u001b[0;32m   1899\u001b[0m \u001b[38;5;28;01mexcept\u001b[39;00m \u001b[38;5;167;01mException\u001b[39;00m:\n\u001b[0;32m   1900\u001b[0m     \u001b[38;5;28;01mif\u001b[39;00m \u001b[38;5;28mself\u001b[39m\u001b[38;5;241m.\u001b[39mhandles \u001b[38;5;129;01mis\u001b[39;00m \u001b[38;5;129;01mnot\u001b[39;00m \u001b[38;5;28;01mNone\u001b[39;00m:\n",
      "File \u001b[1;32mc:\\Users\\ACAP2023\\anaconda3\\Lib\\site-packages\\pandas\\io\\parsers\\c_parser_wrapper.py:93\u001b[0m, in \u001b[0;36mCParserWrapper.__init__\u001b[1;34m(self, src, **kwds)\u001b[0m\n\u001b[0;32m     90\u001b[0m \u001b[38;5;28;01mif\u001b[39;00m kwds[\u001b[38;5;124m\"\u001b[39m\u001b[38;5;124mdtype_backend\u001b[39m\u001b[38;5;124m\"\u001b[39m] \u001b[38;5;241m==\u001b[39m \u001b[38;5;124m\"\u001b[39m\u001b[38;5;124mpyarrow\u001b[39m\u001b[38;5;124m\"\u001b[39m:\n\u001b[0;32m     91\u001b[0m     \u001b[38;5;66;03m# Fail here loudly instead of in cython after reading\u001b[39;00m\n\u001b[0;32m     92\u001b[0m     import_optional_dependency(\u001b[38;5;124m\"\u001b[39m\u001b[38;5;124mpyarrow\u001b[39m\u001b[38;5;124m\"\u001b[39m)\n\u001b[1;32m---> 93\u001b[0m \u001b[38;5;28mself\u001b[39m\u001b[38;5;241m.\u001b[39m_reader \u001b[38;5;241m=\u001b[39m parsers\u001b[38;5;241m.\u001b[39mTextReader(src, \u001b[38;5;241m*\u001b[39m\u001b[38;5;241m*\u001b[39mkwds)\n\u001b[0;32m     95\u001b[0m \u001b[38;5;28mself\u001b[39m\u001b[38;5;241m.\u001b[39munnamed_cols \u001b[38;5;241m=\u001b[39m \u001b[38;5;28mself\u001b[39m\u001b[38;5;241m.\u001b[39m_reader\u001b[38;5;241m.\u001b[39munnamed_cols\n\u001b[0;32m     97\u001b[0m \u001b[38;5;66;03m# error: Cannot determine type of 'names'\u001b[39;00m\n",
      "File \u001b[1;32mparsers.pyx:574\u001b[0m, in \u001b[0;36mpandas._libs.parsers.TextReader.__cinit__\u001b[1;34m()\u001b[0m\n",
      "File \u001b[1;32mparsers.pyx:663\u001b[0m, in \u001b[0;36mpandas._libs.parsers.TextReader._get_header\u001b[1;34m()\u001b[0m\n",
      "File \u001b[1;32mparsers.pyx:874\u001b[0m, in \u001b[0;36mpandas._libs.parsers.TextReader._tokenize_rows\u001b[1;34m()\u001b[0m\n",
      "File \u001b[1;32mparsers.pyx:891\u001b[0m, in \u001b[0;36mpandas._libs.parsers.TextReader._check_tokenize_status\u001b[1;34m()\u001b[0m\n",
      "File \u001b[1;32mparsers.pyx:2053\u001b[0m, in \u001b[0;36mpandas._libs.parsers.raise_parser_error\u001b[1;34m()\u001b[0m\n",
      "File \u001b[1;32m<frozen codecs>:322\u001b[0m, in \u001b[0;36mdecode\u001b[1;34m(self, input, final)\u001b[0m\n",
      "\u001b[1;31mUnicodeDecodeError\u001b[0m: 'utf-8' codec can't decode byte 0x9d in position 15: invalid start byte"
     ]
    }
   ],
   "source": [
    "df_army = sb.pd.read_csv(sb.common_folders['raw_army_data_source_file'])"
   ]
  },
  {
   "cell_type": "code",
   "execution_count": 6,
   "metadata": {},
   "outputs": [
    {
     "name": "stdout",
     "output_type": "stream",
     "text": [
      "Memory usage: 1301.60 MB\n"
     ]
    }
   ],
   "source": [
    "df_army.shape\n",
    "# Calculate memory usage in bytes and convert to megabytes\n",
    "memory_usage_bytes = df_army.memory_usage(deep=True).sum()\n",
    "memory_usage_mb = memory_usage_bytes / (1024 ** 2)\n",
    "\n",
    "print(f\"Memory usage: {memory_usage_mb:.2f} MB\")"
   ]
  },
  {
   "cell_type": "code",
   "execution_count": 7,
   "metadata": {},
   "outputs": [
    {
     "data": {
      "text/plain": [
       "Index(['Contract No', 'Order No', 'Modification No', 'Award Date',\n",
       "       'Fiscal Year', 'Command', 'Sub Command', 'Organization', 'Office',\n",
       "       'Office Id', 'Army Hierarchy', 'PEO/Command', 'PM/Directorate',\n",
       "       'VCE-PCF Project/Program Title', 'Funding Office Id',\n",
       "       'Funding Office Name', '13GG Legal Business Name (UEI)',\n",
       "       'Entity Unique Id', 'Small Business Eligible Actions',\n",
       "       'Small Business Eligible Dollars', 'Small Business Actions',\n",
       "       'Small Business Dollars', 'Small Business  %', 'SDB Concern Actions',\n",
       "       'SDB Concern Dollars', 'SDB Concern %',\n",
       "       'Service Disabled Veterans Actions',\n",
       "       'Service Disabled Veterans Dollars', 'SVC Disabled Veteran %',\n",
       "       'Women Owned Actions', 'Women Owned Dollars', 'Women Owned %',\n",
       "       'HUB Zone Actions', 'HUB Zone Dollars', 'HUB Zone %', 'OMB Level 1',\n",
       "       'OMB Level 2', 'PSC', 'PSC Description', 'NAICS', 'NAICS Description',\n",
       "       'Congressional District - Vendor', 'Congressional District - POP',\n",
       "       'Subcontracting Plan Description', 'National Interest Description',\n",
       "       'SBIR/STTR Type', 'Bundling', 'Contract Expiration Flag',\n",
       "       'Current Completion Date', 'Awarding PCO (CWS)',\n",
       "       '10N Type Set Aside Description', '6M Description of Requirement',\n",
       "       '12C Reason for Modification Description', 'Contract Action Type',\n",
       "       'Instrument Type'],\n",
       "      dtype='object')"
      ]
     },
     "execution_count": 7,
     "metadata": {},
     "output_type": "execute_result"
    }
   ],
   "source": [
    "df_army.columns"
   ]
  },
  {
   "cell_type": "code",
   "execution_count": 8,
   "metadata": {},
   "outputs": [
    {
     "data": {
      "text/html": [
       "<div>\n",
       "<style scoped>\n",
       "    .dataframe tbody tr th:only-of-type {\n",
       "        vertical-align: middle;\n",
       "    }\n",
       "\n",
       "    .dataframe tbody tr th {\n",
       "        vertical-align: top;\n",
       "    }\n",
       "\n",
       "    .dataframe thead th {\n",
       "        text-align: right;\n",
       "    }\n",
       "</style>\n",
       "<table border=\"1\" class=\"dataframe\">\n",
       "  <thead>\n",
       "    <tr style=\"text-align: right;\">\n",
       "      <th></th>\n",
       "      <th>Small Business Actions</th>\n",
       "      <th>NAICS</th>\n",
       "      <th>Contract Action Type</th>\n",
       "    </tr>\n",
       "  </thead>\n",
       "  <tbody>\n",
       "    <tr>\n",
       "      <th>0</th>\n",
       "      <td>0</td>\n",
       "      <td>459410.0</td>\n",
       "      <td>CONTRACT/PURCHASE ORDER</td>\n",
       "    </tr>\n",
       "    <tr>\n",
       "      <th>1</th>\n",
       "      <td>0</td>\n",
       "      <td>921190.0</td>\n",
       "      <td>CONTRACT/PURCHASE ORDER</td>\n",
       "    </tr>\n",
       "    <tr>\n",
       "      <th>2</th>\n",
       "      <td>0</td>\n",
       "      <td>541519.0</td>\n",
       "      <td>CONTRACT/PURCHASE ORDER</td>\n",
       "    </tr>\n",
       "    <tr>\n",
       "      <th>3</th>\n",
       "      <td>0</td>\n",
       "      <td>541519.0</td>\n",
       "      <td>CONTRACT/PURCHASE ORDER</td>\n",
       "    </tr>\n",
       "    <tr>\n",
       "      <th>4</th>\n",
       "      <td>0</td>\n",
       "      <td>541519.0</td>\n",
       "      <td>CONTRACT/PURCHASE ORDER</td>\n",
       "    </tr>\n",
       "    <tr>\n",
       "      <th>...</th>\n",
       "      <td>...</td>\n",
       "      <td>...</td>\n",
       "      <td>...</td>\n",
       "    </tr>\n",
       "    <tr>\n",
       "      <th>563355</th>\n",
       "      <td>0</td>\n",
       "      <td>237310.0</td>\n",
       "      <td>MODIFICATION</td>\n",
       "    </tr>\n",
       "    <tr>\n",
       "      <th>563356</th>\n",
       "      <td>0</td>\n",
       "      <td>325412.0</td>\n",
       "      <td>MODIFICATION</td>\n",
       "    </tr>\n",
       "    <tr>\n",
       "      <th>563357</th>\n",
       "      <td>0</td>\n",
       "      <td>325412.0</td>\n",
       "      <td>MODIFICATION</td>\n",
       "    </tr>\n",
       "    <tr>\n",
       "      <th>563358</th>\n",
       "      <td>0</td>\n",
       "      <td>336992.0</td>\n",
       "      <td>MODIFICATION</td>\n",
       "    </tr>\n",
       "    <tr>\n",
       "      <th>563359</th>\n",
       "      <td>0</td>\n",
       "      <td>325414.0</td>\n",
       "      <td>MODIFICATION</td>\n",
       "    </tr>\n",
       "  </tbody>\n",
       "</table>\n",
       "<p>563360 rows × 3 columns</p>\n",
       "</div>"
      ],
      "text/plain": [
       "        Small Business Actions     NAICS     Contract Action Type\n",
       "0                            0  459410.0  CONTRACT/PURCHASE ORDER\n",
       "1                            0  921190.0  CONTRACT/PURCHASE ORDER\n",
       "2                            0  541519.0  CONTRACT/PURCHASE ORDER\n",
       "3                            0  541519.0  CONTRACT/PURCHASE ORDER\n",
       "4                            0  541519.0  CONTRACT/PURCHASE ORDER\n",
       "...                        ...       ...                      ...\n",
       "563355                       0  237310.0             MODIFICATION\n",
       "563356                       0  325412.0             MODIFICATION\n",
       "563357                       0  325412.0             MODIFICATION\n",
       "563358                       0  336992.0             MODIFICATION\n",
       "563359                       0  325414.0             MODIFICATION\n",
       "\n",
       "[563360 rows x 3 columns]"
      ]
     },
     "execution_count": 8,
     "metadata": {},
     "output_type": "execute_result"
    }
   ],
   "source": [
    "# Drop columns that are not needed\n",
    "df_army.drop(columns=['Contract No', 'Order No', 'Modification No', 'Award Date',\n",
    "       'Fiscal Year', 'Command', 'Sub Command', 'Organization', 'Office',\n",
    "       'Office Id', 'Army Hierarchy', 'PEO/Command', 'PM/Directorate',\n",
    "       'VCE-PCF Project/Program Title', 'Funding Office Id',\n",
    "       'Funding Office Name', '13GG Legal Business Name (UEI)',\n",
    "       'Entity Unique Id', 'Small Business Eligible Actions',\n",
    "       'Small Business Eligible Dollars', 'Small Business Dollars', 'Small Business  %', 'SDB Concern Actions',\n",
    "       'SDB Concern Dollars', 'SDB Concern %',\n",
    "       'Service Disabled Veterans Actions',\n",
    "       'Service Disabled Veterans Dollars', 'SVC Disabled Veteran %',\n",
    "       'Women Owned Actions', 'Women Owned Dollars', 'Women Owned %',\n",
    "       'HUB Zone Actions', 'HUB Zone Dollars', 'HUB Zone %', 'OMB Level 1',\n",
    "       'OMB Level 2', 'PSC', 'PSC Description', 'NAICS Description',\n",
    "       'Congressional District - Vendor', 'Congressional District - POP',\n",
    "       'Subcontracting Plan Description', 'National Interest Description',\n",
    "       'SBIR/STTR Type', 'Bundling', 'Contract Expiration Flag',\n",
    "       'Current Completion Date', 'Awarding PCO (CWS)',\n",
    "       '10N Type Set Aside Description', '6M Description of Requirement',\n",
    "       '12C Reason for Modification Description', 'Instrument Type'])"
   ]
  },
  {
   "cell_type": "code",
   "execution_count": 9,
   "metadata": {},
   "outputs": [
    {
     "name": "stdout",
     "output_type": "stream",
     "text": [
      "Memory usage: 1301.60 MB\n"
     ]
    }
   ],
   "source": [
    "df_army.shape\n",
    "# Calculate memory usage in bytes and convert to megabytes\n",
    "memory_usage_bytes = df_army.memory_usage(deep=True).sum()\n",
    "memory_usage_mb = memory_usage_bytes / (1024 ** 2)\n",
    "\n",
    "print(f\"Memory usage: {memory_usage_mb:.2f} MB\")"
   ]
  },
  {
   "cell_type": "code",
   "execution_count": 10,
   "metadata": {},
   "outputs": [
    {
     "name": "stdout",
     "output_type": "stream",
     "text": [
      "<class 'pandas.core.frame.DataFrame'>\n",
      "RangeIndex: 563360 entries, 0 to 563359\n",
      "Data columns (total 55 columns):\n",
      " #   Column                                   Non-Null Count   Dtype         \n",
      "---  ------                                   --------------   -----         \n",
      " 0   Contract No                              563360 non-null  object        \n",
      " 1   Order No                                 563360 non-null  object        \n",
      " 2   Modification No                          563360 non-null  object        \n",
      " 3   Award Date                               563360 non-null  datetime64[ns]\n",
      " 4   Fiscal Year                              563360 non-null  int64         \n",
      " 5   Command                                  563355 non-null  object        \n",
      " 6   Sub Command                              563355 non-null  object        \n",
      " 7   Organization                             563355 non-null  object        \n",
      " 8   Office                                   563355 non-null  object        \n",
      " 9   Office Id                                563360 non-null  object        \n",
      " 10  Army Hierarchy                           551455 non-null  object        \n",
      " 11  PEO/Command                              551455 non-null  object        \n",
      " 12  PM/Directorate                           551455 non-null  object        \n",
      " 13  VCE-PCF Project/Program Title            197903 non-null  object        \n",
      " 14  Funding Office Id                        563360 non-null  object        \n",
      " 15  Funding Office Name                      505935 non-null  object        \n",
      " 16  13GG Legal Business Name (UEI)           563217 non-null  object        \n",
      " 17  Entity Unique Id                         563217 non-null  object        \n",
      " 18  Small Business Eligible Actions          563360 non-null  int64         \n",
      " 19  Small Business Eligible Dollars          563360 non-null  float64       \n",
      " 20  Small Business Actions                   563360 non-null  int64         \n",
      " 21  Small Business Dollars                   563360 non-null  float64       \n",
      " 22  Small Business  %                        563360 non-null  object        \n",
      " 23  SDB Concern Actions                      563360 non-null  int64         \n",
      " 24  SDB Concern Dollars                      563360 non-null  float64       \n",
      " 25  SDB Concern %                            563360 non-null  object        \n",
      " 26  Service Disabled Veterans Actions        563360 non-null  int64         \n",
      " 27  Service Disabled Veterans Dollars        563360 non-null  float64       \n",
      " 28  SVC Disabled Veteran %                   563360 non-null  object        \n",
      " 29  Women Owned Actions                      563360 non-null  int64         \n",
      " 30  Women Owned Dollars                      563360 non-null  float64       \n",
      " 31  Women Owned %                            563360 non-null  object        \n",
      " 32  HUB Zone Actions                         563360 non-null  int64         \n",
      " 33  HUB Zone Dollars                         563360 non-null  float64       \n",
      " 34  HUB Zone %                               563360 non-null  object        \n",
      " 35  OMB Level 1                              563360 non-null  object        \n",
      " 36  OMB Level 2                              563360 non-null  object        \n",
      " 37  PSC                                      563360 non-null  object        \n",
      " 38  PSC Description                          562966 non-null  object        \n",
      " 39  NAICS                                    563243 non-null  float64       \n",
      " 40  NAICS Description                        563243 non-null  object        \n",
      " 41  Congressional District - Vendor          545474 non-null  float64       \n",
      " 42  Congressional District - POP             507642 non-null  float64       \n",
      " 43  Subcontracting Plan Description          533665 non-null  object        \n",
      " 44  National Interest Description            447278 non-null  object        \n",
      " 45  SBIR/STTR Type                           8584 non-null    object        \n",
      " 46  Bundling                                 563181 non-null  object        \n",
      " 47  Contract Expiration Flag                 563360 non-null  object        \n",
      " 48  Current Completion Date                  563360 non-null  object        \n",
      " 49  Awarding PCO (CWS)                       546271 non-null  object        \n",
      " 50  10N Type Set Aside Description           305799 non-null  object        \n",
      " 51  6M Description of Requirement            563344 non-null  object        \n",
      " 52  12C Reason for Modification Description  375849 non-null  object        \n",
      " 53  Contract Action Type                     563360 non-null  object        \n",
      " 54  Instrument Type                          563360 non-null  object        \n",
      "dtypes: datetime64[ns](1), float64(9), int64(7), object(38)\n",
      "memory usage: 236.4+ MB\n"
     ]
    }
   ],
   "source": [
    "df_army.info()"
   ]
  },
  {
   "cell_type": "code",
   "execution_count": null,
   "metadata": {},
   "outputs": [],
   "source": [
    "sb.convert_raw_data_from_excel_to_csv()"
   ]
  },
  {
   "cell_type": "code",
   "execution_count": null,
   "metadata": {},
   "outputs": [],
   "source": [
    "sb.clean_and_transform_data_for_contract_profiles()"
   ]
  },
  {
   "cell_type": "code",
   "execution_count": null,
   "metadata": {},
   "outputs": [],
   "source": [
    "sb.insights_unrestricted_awarded_to_sb()"
   ]
  },
  {
   "cell_type": "code",
   "execution_count": null,
   "metadata": {},
   "outputs": [],
   "source": [
    "sb.insights_sbsa_with_potential_for_socio_set_aside()"
   ]
  },
  {
   "cell_type": "code",
   "execution_count": null,
   "metadata": {},
   "outputs": [],
   "source": [
    "sb.insights_8a_with_exit_before_expiration()"
   ]
  }
 ],
 "metadata": {
  "kernelspec": {
   "display_name": "base",
   "language": "python",
   "name": "python3"
  },
  "language_info": {
   "codemirror_mode": {
    "name": "ipython",
    "version": 3
   },
   "file_extension": ".py",
   "mimetype": "text/x-python",
   "name": "python",
   "nbconvert_exporter": "python",
   "pygments_lexer": "ipython3",
   "version": "3.12.7"
  }
 },
 "nbformat": 4,
 "nbformat_minor": 2
}
