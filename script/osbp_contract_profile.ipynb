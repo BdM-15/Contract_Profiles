{
 "cells": [
  {
   "cell_type": "markdown",
   "metadata": {},
   "source": [
    "This is the code for the OSBP-RI Contract Profile."
   ]
  },
  {
   "cell_type": "markdown",
   "metadata": {},
   "source": [
    "The following module contains all the functions provided to read the data, clean it, transform it, and populate profiles for each targeted contract identified."
   ]
  },
  {
   "cell_type": "code",
   "execution_count": 1,
   "metadata": {},
   "outputs": [],
   "source": [
    "import osbp_optimized as sb"
   ]
  },
  {
   "cell_type": "markdown",
   "metadata": {},
   "source": [
    "This is the initial raw data cleanse for the two main data sources.  ACC-RI data source and Army data source. \n",
    "\n",
    "Convert the raw data folder location and the file pattern to search for the latest file in the raw data folder.  \n",
    "\n",
    "This function will first check to see if the file is older than 30 days.  If < 30, skips the cleanse and transform process.  If > 30, it will convert the file to a csv and then cleanse and transform the data.  The final file will be saved in the interim data folder. https://x.com/i/grok/share/1qrwk5gLfh8orhxLslTG1fAdE"
   ]
  },
  {
   "cell_type": "code",
   "execution_count": 3,
   "metadata": {},
   "outputs": [],
   "source": [
    "#df = sb.pd.read_excel(r'C:\\PyProjects\\contract_profiles\\data\\raw\\raw_army_data_source_file.xlsx')\n",
    "df = sb.pd.read_excel(sb.common_folders['raw_army_data_source_file'])\n"
   ]
  },
  {
   "cell_type": "code",
   "execution_count": null,
   "metadata": {},
   "outputs": [],
   "source": [
    "df.to_csv(sb.os.path.join(sb.common_folders['raw_data_folder'],'raw_army_data_source.csv'), index=False)"
   ]
  },
  {
   "cell_type": "code",
   "execution_count": 11,
   "metadata": {},
   "outputs": [
    {
     "data": {
      "text/plain": [
       "(563360, 55)"
      ]
     },
     "execution_count": 11,
     "metadata": {},
     "output_type": "execute_result"
    }
   ],
   "source": [
    "df.shape"
   ]
  },
  {
   "cell_type": "code",
   "execution_count": 12,
   "metadata": {},
   "outputs": [
    {
     "data": {
      "text/plain": [
       "Index(['Contract No', 'Order No', 'Modification No', 'Award Date',\n",
       "       'Fiscal Year', 'Command', 'Sub Command', 'Organization', 'Office',\n",
       "       'Office Id', 'Army Hierarchy', 'PEO/Command', 'PM/Directorate',\n",
       "       'VCE-PCF Project/Program Title', 'Funding Office Id',\n",
       "       'Funding Office Name', '13GG Legal Business Name (UEI)',\n",
       "       'Entity Unique Id', 'Small Business Eligible Actions',\n",
       "       'Small Business Eligible Dollars', 'Small Business Actions',\n",
       "       'Small Business Dollars', 'Small Business  %', 'SDB Concern Actions',\n",
       "       'SDB Concern Dollars', 'SDB Concern %',\n",
       "       'Service Disabled Veterans Actions',\n",
       "       'Service Disabled Veterans Dollars', 'SVC Disabled Veteran %',\n",
       "       'Women Owned Actions', 'Women Owned Dollars', 'Women Owned %',\n",
       "       'HUB Zone Actions', 'HUB Zone Dollars', 'HUB Zone %', 'OMB Level 1',\n",
       "       'OMB Level 2', 'PSC', 'PSC Description', 'NAICS', 'NAICS Description',\n",
       "       'Congressional District - Vendor', 'Congressional District - POP',\n",
       "       'Subcontracting Plan Description', 'National Interest Description',\n",
       "       'SBIR/STTR Type', 'Bundling', 'Contract Expiration Flag',\n",
       "       'Current Completion Date', 'Awarding PCO (CWS)',\n",
       "       '10N Type Set Aside Description', '6M Description of Requirement',\n",
       "       '12C Reason for Modification Description', 'Contract Action Type',\n",
       "       'Instrument Type'],\n",
       "      dtype='object')"
      ]
     },
     "execution_count": 12,
     "metadata": {},
     "output_type": "execute_result"
    }
   ],
   "source": [
    "df.columns"
   ]
  },
  {
   "cell_type": "code",
   "execution_count": 10,
   "metadata": {},
   "outputs": [
    {
     "name": "stdout",
     "output_type": "stream",
     "text": [
      "<class 'pandas.core.frame.DataFrame'>\n",
      "RangeIndex: 563360 entries, 0 to 563359\n",
      "Data columns (total 55 columns):\n",
      " #   Column                                   Non-Null Count   Dtype         \n",
      "---  ------                                   --------------   -----         \n",
      " 0   Contract No                              563360 non-null  object        \n",
      " 1   Order No                                 563360 non-null  object        \n",
      " 2   Modification No                          563360 non-null  object        \n",
      " 3   Award Date                               563360 non-null  datetime64[ns]\n",
      " 4   Fiscal Year                              563360 non-null  int64         \n",
      " 5   Command                                  563355 non-null  object        \n",
      " 6   Sub Command                              563355 non-null  object        \n",
      " 7   Organization                             563355 non-null  object        \n",
      " 8   Office                                   563355 non-null  object        \n",
      " 9   Office Id                                563360 non-null  object        \n",
      " 10  Army Hierarchy                           551455 non-null  object        \n",
      " 11  PEO/Command                              551455 non-null  object        \n",
      " 12  PM/Directorate                           551455 non-null  object        \n",
      " 13  VCE-PCF Project/Program Title            197903 non-null  object        \n",
      " 14  Funding Office Id                        563360 non-null  object        \n",
      " 15  Funding Office Name                      505935 non-null  object        \n",
      " 16  13GG Legal Business Name (UEI)           563217 non-null  object        \n",
      " 17  Entity Unique Id                         563217 non-null  object        \n",
      " 18  Small Business Eligible Actions          563360 non-null  int64         \n",
      " 19  Small Business Eligible Dollars          563360 non-null  float64       \n",
      " 20  Small Business Actions                   563360 non-null  int64         \n",
      " 21  Small Business Dollars                   563360 non-null  float64       \n",
      " 22  Small Business  %                        563360 non-null  object        \n",
      " 23  SDB Concern Actions                      563360 non-null  int64         \n",
      " 24  SDB Concern Dollars                      563360 non-null  float64       \n",
      " 25  SDB Concern %                            563360 non-null  object        \n",
      " 26  Service Disabled Veterans Actions        563360 non-null  int64         \n",
      " 27  Service Disabled Veterans Dollars        563360 non-null  float64       \n",
      " 28  SVC Disabled Veteran %                   563360 non-null  object        \n",
      " 29  Women Owned Actions                      563360 non-null  int64         \n",
      " 30  Women Owned Dollars                      563360 non-null  float64       \n",
      " 31  Women Owned %                            563360 non-null  object        \n",
      " 32  HUB Zone Actions                         563360 non-null  int64         \n",
      " 33  HUB Zone Dollars                         563360 non-null  float64       \n",
      " 34  HUB Zone %                               563360 non-null  object        \n",
      " 35  OMB Level 1                              563360 non-null  object        \n",
      " 36  OMB Level 2                              563360 non-null  object        \n",
      " 37  PSC                                      563360 non-null  object        \n",
      " 38  PSC Description                          562966 non-null  object        \n",
      " 39  NAICS                                    563243 non-null  float64       \n",
      " 40  NAICS Description                        563243 non-null  object        \n",
      " 41  Congressional District - Vendor          545474 non-null  float64       \n",
      " 42  Congressional District - POP             507642 non-null  float64       \n",
      " 43  Subcontracting Plan Description          533665 non-null  object        \n",
      " 44  National Interest Description            447278 non-null  object        \n",
      " 45  SBIR/STTR Type                           8584 non-null    object        \n",
      " 46  Bundling                                 563181 non-null  object        \n",
      " 47  Contract Expiration Flag                 563360 non-null  object        \n",
      " 48  Current Completion Date                  563360 non-null  object        \n",
      " 49  Awarding PCO (CWS)                       546271 non-null  object        \n",
      " 50  10N Type Set Aside Description           305799 non-null  object        \n",
      " 51  6M Description of Requirement            563344 non-null  object        \n",
      " 52  12C Reason for Modification Description  375849 non-null  object        \n",
      " 53  Contract Action Type                     563360 non-null  object        \n",
      " 54  Instrument Type                          563360 non-null  object        \n",
      "dtypes: datetime64[ns](1), float64(9), int64(7), object(38)\n",
      "memory usage: 236.4+ MB\n"
     ]
    }
   ],
   "source": [
    "df.info()"
   ]
  },
  {
   "cell_type": "code",
   "execution_count": null,
   "metadata": {},
   "outputs": [],
   "source": [
    "sb.convert_raw_data_from_excel_to_csv()"
   ]
  },
  {
   "cell_type": "code",
   "execution_count": null,
   "metadata": {},
   "outputs": [],
   "source": [
    "sb.clean_and_transform_data_for_contract_profiles()"
   ]
  },
  {
   "cell_type": "code",
   "execution_count": null,
   "metadata": {},
   "outputs": [],
   "source": [
    "sb.insights_unrestricted_awarded_to_sb()"
   ]
  },
  {
   "cell_type": "code",
   "execution_count": null,
   "metadata": {},
   "outputs": [],
   "source": [
    "sb.insights_sbsa_with_potential_for_socio_set_aside()"
   ]
  },
  {
   "cell_type": "code",
   "execution_count": null,
   "metadata": {},
   "outputs": [],
   "source": [
    "sb.insights_8a_with_exit_before_expiration()"
   ]
  }
 ],
 "metadata": {
  "kernelspec": {
   "display_name": "base",
   "language": "python",
   "name": "python3"
  },
  "language_info": {
   "codemirror_mode": {
    "name": "ipython",
    "version": 3
   },
   "file_extension": ".py",
   "mimetype": "text/x-python",
   "name": "python",
   "nbconvert_exporter": "python",
   "pygments_lexer": "ipython3",
   "version": "3.12.7"
  }
 },
 "nbformat": 4,
 "nbformat_minor": 2
}
