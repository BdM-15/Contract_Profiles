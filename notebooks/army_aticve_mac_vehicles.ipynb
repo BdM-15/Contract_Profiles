{
 "cells": [
  {
   "cell_type": "markdown",
   "metadata": {},
   "source": [
    "Increasing small business set-aside opportunity on multiple award IDIQ vehicles.\n",
    "(1) Identify the multiple-award vehicles currently awarded by the Army. Include the number of vendors by size and socio-economic status where applicable. Be prepared to discuss ordering procedures such as conditions for set-asides at the task/delivery order level and on-ramp/off-ramp provisions.\n",
    "(2) Identify the contract expiration dates and status of on-ramp/off-ramp decisions and re-procurement efforts."
   ]
  },
  {
   "cell_type": "code",
   "execution_count": 52,
   "metadata": {},
   "outputs": [],
   "source": [
    "import pandas as pd\n",
    "import numpy as np"
   ]
  },
  {
   "cell_type": "code",
   "execution_count": 53,
   "metadata": {},
   "outputs": [
    {
     "name": "stderr",
     "output_type": "stream",
     "text": [
      "C:\\Users\\ACAP2023\\AppData\\Local\\Temp\\ipykernel_1460\\4186101272.py:1: DtypeWarning: Columns (23) have mixed types. Specify dtype option on import or set low_memory=False.\n",
      "  df = pd.read_csv(r'C:\\PyProjects\\OSBP Insights\\references\\army_active_contracts\\army_active_contracts_hs.csv')\n"
     ]
    }
   ],
   "source": [
    "df = pd.read_csv(r'C:\\PyProjects\\OSBP Insights\\references\\army_active_contracts\\army_active_contracts_hs.csv')"
   ]
  },
  {
   "cell_type": "code",
   "execution_count": 54,
   "metadata": {},
   "outputs": [
    {
     "name": "stdout",
     "output_type": "stream",
     "text": [
      "<class 'pandas.core.frame.DataFrame'>\n",
      "RangeIndex: 26871 entries, 0 to 26870\n",
      "Data columns (total 50 columns):\n",
      " #   Column                                                          Non-Null Count  Dtype  \n",
      "---  ------                                                          --------------  -----  \n",
      " 0   Awarding Contracting Sub Command                                26871 non-null  object \n",
      " 1   Awarding Contracting Office Name                                26871 non-null  object \n",
      " 2   PEO/Command                                                     26449 non-null  object \n",
      " 3   PM/Directorate                                                  26871 non-null  object \n",
      " 4   FPDS Contract No                                                26871 non-null  object \n",
      " 5   FPDS Order No                                                   26871 non-null  object \n",
      " 6   FPDS Contract Order                                             26871 non-null  object \n",
      " 7   Contract Status                                                 26871 non-null  object \n",
      " 8   Contract End Date                                               26871 non-null  object \n",
      " 9   6M Description of Requirement                                   26864 non-null  object \n",
      " 10  2A Date Signed                                                  26871 non-null  object \n",
      " 11  Contract End Date Year                                          26871 non-null  int64  \n",
      " 12  10D Number of Offers Received                                   16544 non-null  float64\n",
      " 13  9M Unique Entity ID (SAM)                                       26755 non-null  object \n",
      " 14  13GG Legal Business Name (DUNS Legacy)                          26870 non-null  object \n",
      " 15  13GG Legal Business Name (UEI)                                  26751 non-null  object \n",
      " 16  13GG Legal Business Name (UEI) Flag                             26871 non-null  object \n",
      " 17  8G NAICS                                                        26349 non-null  float64\n",
      " 18  8G NAICS Category Code                                          26349 non-null  float64\n",
      " 19  8G NAICS Description                                            26349 non-null  object \n",
      " 20  Small Business Exclusion - JWOD/Sheltered Workshop              26871 non-null  object \n",
      " 21  Small Business Exclusion - UNICOR                               26871 non-null  object \n",
      " 22  Small Business Exclusion - Place of Performance                 26871 non-null  object \n",
      " 23  13Q The AbilityOne Program                                      26871 non-null  object \n",
      " 24  10A Extent Competed                                             25049 non-null  object \n",
      " 25  10A Extent Competed Description                                 25049 non-null  object \n",
      " 26  10N Type Set Aside                                              12703 non-null  object \n",
      " 27  10N Type Set Aside Description                                  12703 non-null  object \n",
      " 28  9C Principal Place of Performance - City                        18225 non-null  object \n",
      " 29  9C Principal Place of Performance - State                       18231 non-null  object \n",
      " 30  9C Principal Place of Performance - County                      18225 non-null  object \n",
      " 31  11A Contracting Officer's Determination of Business Size        26352 non-null  object \n",
      " 32  Other Than Small Business Dollars                               12024 non-null  float64\n",
      " 33  Small Business Eligible Dollars                                 26871 non-null  float64\n",
      " 34  Small Business Eligible Actions                                 26871 non-null  int64  \n",
      " 35  Small Business Dollars                                          14328 non-null  float64\n",
      " 36  Small Business Actions                                          26871 non-null  int64  \n",
      " 37  SDB Concern Dollars                                             26871 non-null  float64\n",
      " 38  SDB Concern Actions                                             26871 non-null  int64  \n",
      " 39  Service Disabled Veteran Dollars                                26871 non-null  float64\n",
      " 40  Service Disabled Veteran Actions                                26871 non-null  int64  \n",
      " 41  Women Owned Dollars                                             26871 non-null  float64\n",
      " 42  Women Owned Actions                                             26871 non-null  int64  \n",
      " 43  HUB Zone Dollars                                                26871 non-null  float64\n",
      " 44  HUB Zone Actions                                                26871 non-null  int64  \n",
      " 45  Total Competed Actions                                          26871 non-null  int64  \n",
      " 46  Total Competed Dollars                                          26871 non-null  float64\n",
      " 47  3C Action Obligation - Current                                  26871 non-null  float64\n",
      " 48  3A Base and All Options Value (Total Contract Value) - Current  26871 non-null  float64\n",
      " 49  3A Base and All Options Value (Total Contract Value) - Total    26871 non-null  float64\n",
      "dtypes: float64(14), int64(8), object(28)\n",
      "memory usage: 10.3+ MB\n"
     ]
    }
   ],
   "source": [
    "df.info()"
   ]
  },
  {
   "cell_type": "code",
   "execution_count": 55,
   "metadata": {},
   "outputs": [
    {
     "name": "stdout",
     "output_type": "stream",
     "text": [
      "Data Types:\n",
      " Awarding Contracting Sub Command                                   object\n",
      "Awarding Contracting Office Name                                   object\n",
      "PEO/Command                                                        object\n",
      "PM/Directorate                                                     object\n",
      "FPDS Contract No                                                   object\n",
      "FPDS Order No                                                      object\n",
      "FPDS Contract Order                                                object\n",
      "Contract Status                                                    object\n",
      "Contract End Date                                                  object\n",
      "6M Description of Requirement                                      object\n",
      "2A Date Signed                                                     object\n",
      "Contract End Date Year                                              int64\n",
      "10D Number of Offers Received                                     float64\n",
      "9M Unique Entity ID (SAM)                                          object\n",
      "13GG Legal Business Name (DUNS Legacy)                             object\n",
      "13GG Legal Business Name (UEI)                                     object\n",
      "13GG Legal Business Name (UEI) Flag                                object\n",
      "8G NAICS                                                          float64\n",
      "8G NAICS Category Code                                            float64\n",
      "8G NAICS Description                                               object\n",
      "Small Business Exclusion - JWOD/Sheltered Workshop                 object\n",
      "Small Business Exclusion - UNICOR                                  object\n",
      "Small Business Exclusion - Place of Performance                    object\n",
      "13Q The AbilityOne Program                                         object\n",
      "10A Extent Competed                                                object\n",
      "10A Extent Competed Description                                    object\n",
      "10N Type Set Aside                                                 object\n",
      "10N Type Set Aside Description                                     object\n",
      "9C Principal Place of Performance - City                           object\n",
      "9C Principal Place of Performance - State                          object\n",
      "9C Principal Place of Performance - County                         object\n",
      "11A Contracting Officer's Determination of Business Size           object\n",
      "Other Than Small Business Dollars                                 float64\n",
      "Small Business Eligible Dollars                                   float64\n",
      "Small Business Eligible Actions                                     int64\n",
      "Small Business Dollars                                            float64\n",
      "Small Business Actions                                              int64\n",
      "SDB Concern Dollars                                               float64\n",
      "SDB Concern Actions                                                 int64\n",
      "Service Disabled Veteran Dollars                                  float64\n",
      "Service Disabled Veteran Actions                                    int64\n",
      "Women Owned Dollars                                               float64\n",
      "Women Owned Actions                                                 int64\n",
      "HUB Zone Dollars                                                  float64\n",
      "HUB Zone Actions                                                    int64\n",
      "Total Competed Actions                                              int64\n",
      "Total Competed Dollars                                            float64\n",
      "3C Action Obligation - Current                                    float64\n",
      "3A Base and All Options Value (Total Contract Value) - Current    float64\n",
      "3A Base and All Options Value (Total Contract Value) - Total      float64\n",
      "dtype: object\n"
     ]
    }
   ],
   "source": [
    "# Identify incorrect data types\n",
    "print(\"Data Types:\\n\", df.dtypes)"
   ]
  },
  {
   "cell_type": "code",
   "execution_count": 56,
   "metadata": {},
   "outputs": [
    {
     "name": "stdout",
     "output_type": "stream",
     "text": [
      "Missing Values:\n",
      " Awarding Contracting Sub Command                                      0\n",
      "Awarding Contracting Office Name                                      0\n",
      "PEO/Command                                                         422\n",
      "PM/Directorate                                                        0\n",
      "FPDS Contract No                                                      0\n",
      "FPDS Order No                                                         0\n",
      "FPDS Contract Order                                                   0\n",
      "Contract Status                                                       0\n",
      "Contract End Date                                                     0\n",
      "6M Description of Requirement                                         7\n",
      "2A Date Signed                                                        0\n",
      "Contract End Date Year                                                0\n",
      "10D Number of Offers Received                                     10327\n",
      "9M Unique Entity ID (SAM)                                           116\n",
      "13GG Legal Business Name (DUNS Legacy)                                1\n",
      "13GG Legal Business Name (UEI)                                      120\n",
      "13GG Legal Business Name (UEI) Flag                                   0\n",
      "8G NAICS                                                            522\n",
      "8G NAICS Category Code                                              522\n",
      "8G NAICS Description                                                522\n",
      "Small Business Exclusion - JWOD/Sheltered Workshop                    0\n",
      "Small Business Exclusion - UNICOR                                     0\n",
      "Small Business Exclusion - Place of Performance                       0\n",
      "13Q The AbilityOne Program                                            0\n",
      "10A Extent Competed                                                1822\n",
      "10A Extent Competed Description                                    1822\n",
      "10N Type Set Aside                                                14168\n",
      "10N Type Set Aside Description                                    14168\n",
      "9C Principal Place of Performance - City                           8646\n",
      "9C Principal Place of Performance - State                          8640\n",
      "9C Principal Place of Performance - County                         8646\n",
      "11A Contracting Officer's Determination of Business Size            519\n",
      "Other Than Small Business Dollars                                 14847\n",
      "Small Business Eligible Dollars                                       0\n",
      "Small Business Eligible Actions                                       0\n",
      "Small Business Dollars                                            12543\n",
      "Small Business Actions                                                0\n",
      "SDB Concern Dollars                                                   0\n",
      "SDB Concern Actions                                                   0\n",
      "Service Disabled Veteran Dollars                                      0\n",
      "Service Disabled Veteran Actions                                      0\n",
      "Women Owned Dollars                                                   0\n",
      "Women Owned Actions                                                   0\n",
      "HUB Zone Dollars                                                      0\n",
      "HUB Zone Actions                                                      0\n",
      "Total Competed Actions                                                0\n",
      "Total Competed Dollars                                                0\n",
      "3C Action Obligation - Current                                        0\n",
      "3A Base and All Options Value (Total Contract Value) - Current        0\n",
      "3A Base and All Options Value (Total Contract Value) - Total          0\n",
      "dtype: int64\n"
     ]
    }
   ],
   "source": [
    "#Check for missing values\n",
    "missing_values = df.isnull().sum()\n",
    "print('Missing Values:\\n', missing_values)"
   ]
  },
  {
   "cell_type": "code",
   "execution_count": 57,
   "metadata": {},
   "outputs": [
    {
     "name": "stdout",
     "output_type": "stream",
     "text": [
      "Duplicate Rows except first occurrence based on all columns are :\n"
     ]
    }
   ],
   "source": [
    "# Identifty duplicate rows\n",
    "duplicate_rows = df[df.duplicated()]\n",
    "print(\"Duplicate Rows except first occurrence based on all columns are :\")"
   ]
  },
  {
   "cell_type": "code",
   "execution_count": 58,
   "metadata": {},
   "outputs": [
    {
     "name": "stdout",
     "output_type": "stream",
     "text": [
      "Index(['Awarding Contracting Sub Command', 'Awarding Contracting Office Name',\n",
      "       'PEO/Command', 'PM/Directorate', 'FPDS Contract No', 'FPDS Order No',\n",
      "       'FPDS Contract Order', 'Contract Status', 'Contract End Date',\n",
      "       '6M Description of Requirement', '2A Date Signed',\n",
      "       'Contract End Date Year', '10D Number of Offers Received',\n",
      "       '9M Unique Entity ID (SAM)', '13GG Legal Business Name (DUNS Legacy)',\n",
      "       '13GG Legal Business Name (UEI)', '13GG Legal Business Name (UEI) Flag',\n",
      "       '8G NAICS', '8G NAICS Category Code', '8G NAICS Description',\n",
      "       'Small Business Exclusion - JWOD/Sheltered Workshop',\n",
      "       'Small Business Exclusion - UNICOR',\n",
      "       'Small Business Exclusion - Place of Performance',\n",
      "       '13Q The AbilityOne Program', '10A Extent Competed',\n",
      "       '10A Extent Competed Description', '10N Type Set Aside',\n",
      "       '10N Type Set Aside Description',\n",
      "       '9C Principal Place of Performance - City',\n",
      "       '9C Principal Place of Performance - State',\n",
      "       '9C Principal Place of Performance - County',\n",
      "       '11A Contracting Officer's Determination of Business Size',\n",
      "       'Other Than Small Business Dollars', 'Small Business Eligible Dollars',\n",
      "       'Small Business Eligible Actions', 'Small Business Dollars',\n",
      "       'Small Business Actions', 'SDB Concern Dollars', 'SDB Concern Actions',\n",
      "       'Service Disabled Veteran Dollars', 'Service Disabled Veteran Actions',\n",
      "       'Women Owned Dollars', 'Women Owned Actions', 'HUB Zone Dollars',\n",
      "       'HUB Zone Actions', 'Total Competed Actions', 'Total Competed Dollars',\n",
      "       '3C Action Obligation - Current',\n",
      "       '3A Base and All Options Value (Total Contract Value) - Current',\n",
      "       '3A Base and All Options Value (Total Contract Value) - Total'],\n",
      "      dtype='object')\n"
     ]
    }
   ],
   "source": [
    "# Get column names\n",
    "print(df.columns)"
   ]
  },
  {
   "cell_type": "code",
   "execution_count": 59,
   "metadata": {},
   "outputs": [],
   "source": [
    "# Convert dates to a consistent format\n",
    "df['Contract End Date'] = pd.to_datetime(df['Contract End Date'], errors='coerce')\n",
    "df['2A Date Signed'] = pd.to_datetime(df['2A Date Signed'], errors='coerce')\n",
    "# print(\"Award Date Data Type:\", df['Award Date'].dtype)\n",
    "# print(\"Expiration Date Data Type:\", df['Expiration'].dtype)"
   ]
  },
  {
   "cell_type": "code",
   "execution_count": 60,
   "metadata": {},
   "outputs": [
    {
     "name": "stdout",
     "output_type": "stream",
     "text": [
      "Index of missing 8G NAICS: Index([   46,    61,    62,    65,   270,   271,   272,   273,   274,   291,\n",
      "       ...\n",
      "       26636, 26637, 26638, 26639, 26640, 26641, 26642, 26700, 26756, 26832],\n",
      "      dtype='int64', length=522)\n"
     ]
    }
   ],
   "source": [
    "# Find the index where the IDV NAICS Code is missing values\n",
    "index = df[df['8G NAICS'].isnull()].index\n",
    "print(\"Index of missing 8G NAICS:\", index)"
   ]
  },
  {
   "cell_type": "code",
   "execution_count": 61,
   "metadata": {},
   "outputs": [
    {
     "name": "stdout",
     "output_type": "stream",
     "text": [
      "<class 'pandas.core.frame.DataFrame'>\n",
      "RangeIndex: 26871 entries, 0 to 26870\n",
      "Data columns (total 50 columns):\n",
      " #   Column                                                          Non-Null Count  Dtype         \n",
      "---  ------                                                          --------------  -----         \n",
      " 0   Awarding Contracting Sub Command                                26871 non-null  object        \n",
      " 1   Awarding Contracting Office Name                                26871 non-null  object        \n",
      " 2   PEO/Command                                                     26449 non-null  object        \n",
      " 3   PM/Directorate                                                  26871 non-null  object        \n",
      " 4   FPDS Contract No                                                26871 non-null  object        \n",
      " 5   FPDS Order No                                                   26871 non-null  object        \n",
      " 6   FPDS Contract Order                                             26871 non-null  object        \n",
      " 7   Contract Status                                                 26871 non-null  object        \n",
      " 8   Contract End Date                                               26871 non-null  datetime64[ns]\n",
      " 9   6M Description of Requirement                                   26864 non-null  object        \n",
      " 10  2A Date Signed                                                  26871 non-null  datetime64[ns]\n",
      " 11  Contract End Date Year                                          26871 non-null  int64         \n",
      " 12  10D Number of Offers Received                                   26871 non-null  object        \n",
      " 13  9M Unique Entity ID (SAM)                                       26755 non-null  object        \n",
      " 14  13GG Legal Business Name (DUNS Legacy)                          26870 non-null  object        \n",
      " 15  13GG Legal Business Name (UEI)                                  26751 non-null  object        \n",
      " 16  13GG Legal Business Name (UEI) Flag                             26871 non-null  object        \n",
      " 17  8G NAICS                                                        26871 non-null  object        \n",
      " 18  8G NAICS Category Code                                          26349 non-null  float64       \n",
      " 19  8G NAICS Description                                            26349 non-null  object        \n",
      " 20  Small Business Exclusion - JWOD/Sheltered Workshop              26871 non-null  object        \n",
      " 21  Small Business Exclusion - UNICOR                               26871 non-null  object        \n",
      " 22  Small Business Exclusion - Place of Performance                 26871 non-null  object        \n",
      " 23  13Q The AbilityOne Program                                      26871 non-null  object        \n",
      " 24  10A Extent Competed                                             25049 non-null  object        \n",
      " 25  10A Extent Competed Description                                 25049 non-null  object        \n",
      " 26  10N Type Set Aside                                              12703 non-null  object        \n",
      " 27  10N Type Set Aside Description                                  12703 non-null  object        \n",
      " 28  9C Principal Place of Performance - City                        18225 non-null  object        \n",
      " 29  9C Principal Place of Performance - State                       18231 non-null  object        \n",
      " 30  9C Principal Place of Performance - County                      18225 non-null  object        \n",
      " 31  11A Contracting Officer's Determination of Business Size        26352 non-null  object        \n",
      " 32  Other Than Small Business Dollars                               12024 non-null  float64       \n",
      " 33  Small Business Eligible Dollars                                 26871 non-null  float64       \n",
      " 34  Small Business Eligible Actions                                 26871 non-null  int64         \n",
      " 35  Small Business Dollars                                          14328 non-null  float64       \n",
      " 36  Small Business Actions                                          26871 non-null  int64         \n",
      " 37  SDB Concern Dollars                                             26871 non-null  float64       \n",
      " 38  SDB Concern Actions                                             26871 non-null  int64         \n",
      " 39  Service Disabled Veteran Dollars                                26871 non-null  float64       \n",
      " 40  Service Disabled Veteran Actions                                26871 non-null  int64         \n",
      " 41  Women Owned Dollars                                             26871 non-null  float64       \n",
      " 42  Women Owned Actions                                             26871 non-null  int64         \n",
      " 43  HUB Zone Dollars                                                26871 non-null  float64       \n",
      " 44  HUB Zone Actions                                                26871 non-null  int64         \n",
      " 45  Total Competed Actions                                          26871 non-null  int64         \n",
      " 46  Total Competed Dollars                                          26871 non-null  float64       \n",
      " 47  3C Action Obligation - Current                                  26871 non-null  float64       \n",
      " 48  3A Base and All Options Value (Total Contract Value) - Current  26871 non-null  float64       \n",
      " 49  3A Base and All Options Value (Total Contract Value) - Total    26871 non-null  float64       \n",
      "dtypes: datetime64[ns](2), float64(12), int64(8), object(28)\n",
      "memory usage: 10.3+ MB\n"
     ]
    }
   ],
   "source": [
    "# Convert IDV NAICS Code to int and six character limit\n",
    "df['8G NAICS'] = df['8G NAICS'].astype(str)\n",
    "df['8G NAICS'] = df['8G NAICS'].str[:6]\n",
    "df['10D Number of Offers Received'] = df['10D Number of Offers Received'].astype(str)\n",
    "df.info()"
   ]
  },
  {
   "cell_type": "code",
   "execution_count": 62,
   "metadata": {},
   "outputs": [
    {
     "name": "stdout",
     "output_type": "stream",
     "text": [
      "Total Rows: 26871\n"
     ]
    }
   ],
   "source": [
    "# Print the count of the rows\n",
    "print(\"Total Rows:\", len(df))"
   ]
  },
  {
   "cell_type": "code",
   "execution_count": 63,
   "metadata": {},
   "outputs": [
    {
     "name": "stdout",
     "output_type": "stream",
     "text": [
      "Unique FPDS Contract No: ['W9124A04C0011' 'DACA8797D0001' 'W9124A24D0001' ... 'W564KV21P0036'\n",
      " 'W564KV24P0053' 'W912CN25C0003']\n",
      "Count of each unique FPDS Contract No:\n",
      " FPDS Contract No\n",
      "W9124P20D0002    321\n",
      "W15QKN23D0029    198\n",
      "W91CRB23D0023    179\n",
      "N0024424D0005    156\n",
      "W58RGZ18D0001    150\n",
      "                ... \n",
      "W56HZV21DL036      1\n",
      "W56HZV21DL029      1\n",
      "W56HZV21DL032      1\n",
      "W56HZV21DL027      1\n",
      "W912CN25C0003      1\n",
      "Name: count, Length: 14555, dtype: int64\n"
     ]
    }
   ],
   "source": [
    "# Identify the unique values in 'FPDS Contract No' column\n",
    "print(\"Unique FPDS Contract No:\", df['FPDS Contract No'].unique())\n",
    "\n",
    "# Get the count of each unique value in 'IDV Type Of IDC' column\n",
    "print(\"Count of each unique FPDS Contract No:\\n\", df['FPDS Contract No'].value_counts())"
   ]
  },
  {
   "cell_type": "code",
   "execution_count": 73,
   "metadata": {},
   "outputs": [
    {
     "name": "stdout",
     "output_type": "stream",
     "text": [
      "Unique 9th Character in FPDS Contract No: ['C' 'D' 'P' '6' 'S' '9' '3' 'A' '1' '5' 'G' '2' '0' 'V' '4' '8' 'B' '7'\n",
      " 'H' 'O' 'Q' 'E' 'W']\n",
      "Count of unique FPDS Contract No with 9th Character 'D':\n",
      " FPDS Contract No First 9\n",
      "W52P1J20D    551\n",
      "W52P1J16D    418\n",
      "N0024424D    366\n",
      "W15QKN23D    359\n",
      "W52P1J18D    342\n",
      "            ... \n",
      "47QREA18D      1\n",
      "GS07F095D      1\n",
      "FA564122D      1\n",
      "N6600119D      1\n",
      "GS35F152D      1\n",
      "Name: count, Length: 624, dtype: int64\n",
      "Unique FPDS Contract No with 9th Character 'D': ['DACA8797D0001' 'W9124A24D0001' 'W9124A19D0002' ... 'GS35F152DA'\n",
      " 'W56HZV22D0055' '47QSMA20D08Q3']\n",
      "Total Rows in df_filtered: 14015\n"
     ]
    }
   ],
   "source": [
    "# Identify the unique values in the 'FPDS Contract No' column for values that have 'D' in the 9th character\n",
    "df['FPDS Contract No'] = df['FPDS Contract No'].astype(str)\n",
    "df['FPDS Contract No'] = df['FPDS Contract No'].str.upper()\n",
    "\n",
    "# Create a new column \"FPDS Contract No First 9\" that extracts the first nine characters from 'FPDS Contract No'\n",
    "df['FPDS Contract No First 9'] = df['FPDS Contract No'].str[:9]\n",
    "\n",
    "# Create a new column 'FPDS Contract No 9th Character' that extracts the 9th character from 'FPDS Contract No'\n",
    "df['FPDS Contract No 9th Character'] = df['FPDS Contract No'].str[8]\n",
    "print(\"Unique 9th Character in FPDS Contract No:\", df['FPDS Contract No 9th Character'].unique())\n",
    "\n",
    "# Fitler the df where the 9th character in 'FPDS Contract No' is 'D'\n",
    "df_filtered = df[df['FPDS Contract No 9th Character'] == 'D']\n",
    "# Print the count of unique values in 'FPDS Contract No' column where the 9th character is 'D'\n",
    "print(\"Count of unique FPDS Contract No with 9th Character 'D':\\n\", df_filtered['FPDS Contract No First 9'].value_counts())\n",
    "print(\"Unique FPDS Contract No with 9th Character 'D':\", df_filtered['FPDS Contract No'].unique())\n",
    "\n",
    "# Filter df_filtered where the Contract End Date is after today's date\n",
    "# df_filtered = df_filtered[df_filtered['Contract End Date'] > pd.Timestamp.today()]\n",
    "# print(\"Total Rows in df_filtered:\", len(df_filtered))\n",
    "\n",
    "# Save df_filtered to a new csv file in the same directory\n",
    "df_filtered.to_csv(r'C:\\PyProjects\\OSBP Insights\\references\\army_active_contracts\\army_active_contracts_hs_filtered.csv', index=False)\n"
   ]
  },
  {
   "cell_type": "code",
   "execution_count": null,
   "metadata": {},
   "outputs": [
    {
     "name": "stdout",
     "output_type": "stream",
     "text": [
      "Total Unique Entity ID: 6519\n",
      "Unique Entity ID with 'SMALL BUSINESS' in 'Contracting Office Business Size Determination Description':\n",
      " Unique Entity ID\n",
      "MC5NT1MDXNJ4    818\n",
      "R98MW4ZKUUK3    406\n",
      "NWKQVQED4C81    402\n",
      "PRB8NE3JUDG3    343\n",
      "UJEMQV9EG186    332\n",
      "               ... \n",
      "HLLNJ2HEJCJ3      1\n",
      "MYVUNTZXNHL3      1\n",
      "KWJDX23KYGJ2      1\n",
      "JF9HMLKB8476      1\n",
      "JHLYXSNMJMQ5      1\n",
      "Name: count, Length: 4442, dtype: int64\n",
      "Count of each unique Entity ID:\n",
      " Unique Entity ID\n",
      "MC5NT1MDXNJ4    818\n",
      "CK77N4SCAJD3    765\n",
      "J867EA61HLE4    606\n",
      "HAWKSQF848W7    419\n",
      "R98MW4ZKUUK3    406\n",
      "               ... \n",
      "GK69KUCSAK57      1\n",
      "J3EHWGEMBKU5      1\n",
      "LZZDZN4MTHG9      1\n",
      "PL51VBZX3MT4      1\n",
      "JHLYXSNMJMQ5      1\n",
      "Name: count, Length: 6519, dtype: int64\n"
     ]
    }
   ],
   "source": [
    "#Identify the total number of unique values in 'Unique Entity ID' column\n",
    "print(\"Total Unique Entity ID:\", len(df['Unique Entity ID'].unique()))\n",
    "\n",
    "# Get the count of each unique value in 'Unique Entity ID' column and also has a value of \"SMALL BUSINESS\" in the 'Contracting Office Business Size Determination Description' column\n",
    "filtered_df = df[df['Contracting Office Business Size Determination Description'] == 'SMALL BUSINESS']\n",
    "print(\"Unique Entity ID with 'SMALL BUSINESS' in 'Contracting Office Business Size Determination Description':\\n\", filtered_df['Unique Entity ID'].value_counts())\n",
    "print(\"Count of each unique Entity ID:\\n\", df['Unique Entity ID'].value_counts())"
   ]
  },
  {
   "cell_type": "code",
   "execution_count": 15,
   "metadata": {},
   "outputs": [
    {
     "name": "stdout",
     "output_type": "stream",
     "text": [
      "Total Unique IDV NAICS Code: 534\n"
     ]
    }
   ],
   "source": [
    "# Identify the total number of unique values in the 'IDV NAICS Code' column \n",
    "print(\"Total Unique IDV NAICS Code:\", len(df['IDV NAICS Code'].unique()))"
   ]
  }
 ],
 "metadata": {
  "kernelspec": {
   "display_name": "base",
   "language": "python",
   "name": "python3"
  },
  "language_info": {
   "codemirror_mode": {
    "name": "ipython",
    "version": 3
   },
   "file_extension": ".py",
   "mimetype": "text/x-python",
   "name": "python",
   "nbconvert_exporter": "python",
   "pygments_lexer": "ipython3",
   "version": "3.12.7"
  }
 },
 "nbformat": 4,
 "nbformat_minor": 2
}
