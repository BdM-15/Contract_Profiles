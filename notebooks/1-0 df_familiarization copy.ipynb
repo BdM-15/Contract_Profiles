{
  "cells": [
    {
      "cell_type": "markdown",
      "metadata": {},
      "source": [
        "Data familiriazation, cleaning, and preparing tools, tips, and tricks.\n"
      ]
    },
    {
      "cell_type": "code",
      "execution_count": 1,
      "metadata": {},
      "outputs": [],
      "source": [
        "import pandas as pd\n",
        "import numpy as np\n"
      ]
    },
    {
      "cell_type": "code",
      "execution_count": 2,
      "metadata": {},
      "outputs": [],
      "source": [
        "df = pd.read_csv(r'C:\\GitHub\\Contract_Profiles\\data\\interim\\acc_ri_interim_data.csv')\n",
        "# obsp_forecast_df = pd.read_csv(r'C:\\PyProjects\\OSBP Insights\\references\\forecast_listing\\osbp_dashboard_forecast.csv')\n",
        "# amc_forecast_df = pd.read_csv(r'C:\\PyProjects\\OSBP Insights\\references\\forecast_listing\\amc_forecast_listing.csv')"
      ]
    },
    {
      "cell_type": "code",
      "execution_count": 3,
      "metadata": {},
      "outputs": [
        {
          "data": {
            "text/plain": [
              "(29329, 55)"
            ]
          },
          "execution_count": 3,
          "metadata": {},
          "output_type": "execute_result"
        }
      ],
      "source": [
        "# Display the number of rows and columns in the cleaned dataframe\n",
        "df.shape"
      ]
    },
    {
      "cell_type": "code",
      "execution_count": 4,
      "metadata": {},
      "outputs": [
        {
          "name": "stdout",
          "output_type": "stream",
          "text": [
            "<class 'pandas.core.frame.DataFrame'>\n",
            "RangeIndex: 29329 entries, 0 to 29328\n",
            "Data columns (total 55 columns):\n",
            " #   Column                                   Non-Null Count  Dtype  \n",
            "---  ------                                   --------------  -----  \n",
            " 0   Contract No                              29329 non-null  object \n",
            " 1   Order No                                 29329 non-null  object \n",
            " 2   Modification No                          29329 non-null  object \n",
            " 3   Award Date                               29329 non-null  object \n",
            " 4   Fiscal Year                              29329 non-null  int64  \n",
            " 5   Command                                  29329 non-null  object \n",
            " 6   Sub Command                              29329 non-null  object \n",
            " 7   Organization                             29329 non-null  object \n",
            " 8   Office                                   29329 non-null  object \n",
            " 9   Office Id                                29329 non-null  object \n",
            " 10  Army Hierarchy                           29024 non-null  object \n",
            " 11  PEO/Command                              29024 non-null  object \n",
            " 12  PM/Directorate                           29024 non-null  object \n",
            " 13  VCE-PCF Project/Program Title            3950 non-null   object \n",
            " 14  Funding Office Id                        29329 non-null  object \n",
            " 15  Funding Office Name                      29329 non-null  object \n",
            " 16  13GG Legal Business Name (UEI)           29328 non-null  object \n",
            " 17  Entity Unique Id                         29326 non-null  object \n",
            " 18  Small Business Eligible Actions          29329 non-null  int64  \n",
            " 19  Small Business Eligible Dollars          29329 non-null  float64\n",
            " 20  Small Business Actions                   29329 non-null  int64  \n",
            " 21  Small Business Dollars                   29329 non-null  float64\n",
            " 22  Small Business  %                        29329 non-null  object \n",
            " 23  SDB Concern Actions                      29329 non-null  int64  \n",
            " 24  SDB Concern Dollars                      29329 non-null  float64\n",
            " 25  SDB Concern %                            29329 non-null  object \n",
            " 26  Service Disabled Veterans Actions        29329 non-null  int64  \n",
            " 27  Service Disabled Veterans Dollars        29329 non-null  float64\n",
            " 28  SVC Disabled Veteran %                   29329 non-null  object \n",
            " 29  Women Owned Actions                      29329 non-null  int64  \n",
            " 30  Women Owned Dollars                      29329 non-null  float64\n",
            " 31  Women Owned %                            29329 non-null  object \n",
            " 32  HUB Zone Actions                         29329 non-null  int64  \n",
            " 33  HUB Zone Dollars                         29329 non-null  float64\n",
            " 34  HUB Zone %                               29329 non-null  object \n",
            " 35  OMB Level 1                              29329 non-null  object \n",
            " 36  OMB Level 2                              29329 non-null  object \n",
            " 37  PSC                                      29329 non-null  object \n",
            " 38  PSC Description                          29312 non-null  object \n",
            " 39  NAICS                                    29325 non-null  float64\n",
            " 40  NAICS Description                        29325 non-null  object \n",
            " 41  Congressional District - Vendor          28239 non-null  float64\n",
            " 42  Congressional District - POP             24150 non-null  float64\n",
            " 43  Subcontracting Plan Description          24933 non-null  object \n",
            " 44  National Interest Description            23149 non-null  object \n",
            " 45  SBIR/STTR Type                           53 non-null     object \n",
            " 46  Bundling                                 29185 non-null  object \n",
            " 47  Contract Expiration Flag                 29329 non-null  object \n",
            " 48  Current Completion Date                  29329 non-null  object \n",
            " 49  Awarding PCO (CWS)                       28733 non-null  object \n",
            " 50  10N Type Set Aside Description           17085 non-null  object \n",
            " 51  6M Description of Requirement            29329 non-null  object \n",
            " 52  12C Reason for Modification Description  21632 non-null  object \n",
            " 53  Contract Action Type                     29329 non-null  object \n",
            " 54  Instrument Type                          29329 non-null  object \n",
            "dtypes: float64(9), int64(7), object(39)\n",
            "memory usage: 12.3+ MB\n"
          ]
        }
      ],
      "source": [
        "# Filter acc_ri_awards_df to not inlcude any rows with a value of 'MODFICATION\", \"SATOC\", AND \"MATOC\" in the 'Contract Action Type' column\n",
        "df.info()"
      ]
    },
    {
      "cell_type": "code",
      "execution_count": null,
      "metadata": {},
      "outputs": [],
      "source": [
        "# Display the first few rows of the dataframe\n",
        "df.head()"
      ]
    },
    {
      "cell_type": "code",
      "execution_count": null,
      "metadata": {},
      "outputs": [],
      "source": [
        "# Display basic statistics of the dataframe\n",
        "df.describe()"
      ]
    },
    {
      "cell_type": "code",
      "execution_count": null,
      "metadata": {},
      "outputs": [],
      "source": [
        "#Check for missing values\n",
        "missing_values = df.isnull().sum()\n",
        "print('Missing Values:\\n', missing_values)"
      ]
    },
    {
      "cell_type": "code",
      "execution_count": null,
      "metadata": {},
      "outputs": [],
      "source": [
        "# Drop rows with missing values\n",
        "# df = df.dropna()"
      ]
    },
    {
      "cell_type": "code",
      "execution_count": null,
      "metadata": {},
      "outputs": [],
      "source": [
        "# Display the correlation matrix of the dataframe\n",
        "# df.corr()"
      ]
    },
    {
      "cell_type": "code",
      "execution_count": null,
      "metadata": {},
      "outputs": [],
      "source": [
        "# Identify incorrect data types\n",
        "print(\"Data Types:\\n\", df.dtypes)"
      ]
    },
    {
      "cell_type": "code",
      "execution_count": null,
      "metadata": {},
      "outputs": [],
      "source": [
        "# Convert dates to a consistent format\n",
        "df['Award Date'] = pd.to_datetime(df['Award Date'], errors='coerce')\n",
        "df['Expiration'] = pd.to_datetime(df['Expiration'], errors='coerce')\n",
        "print(\"Award Date Data Type:\", df['Award Date'].dtype)\n",
        "print(\"Expiration Date Data Type:\", df['Expiration'].dtype)"
      ]
    },
    {
      "cell_type": "code",
      "execution_count": null,
      "metadata": {},
      "outputs": [],
      "source": [
        "# Convert 'Small Business Dollars' to numeric type if it is not already\n",
        "df['SB Dollars'] = pd.to_numeric(df['SB Dollars'], errors='coerce')\n",
        "\n",
        "df.info()"
      ]
    },
    {
      "cell_type": "code",
      "execution_count": null,
      "metadata": {},
      "outputs": [],
      "source": [
        "# Find outliers in numeric columns. An outlier would be a negative value in the 'Small Business Dollars' column\n",
        "outliers = df[df['SB Dollars'] < 0]\n",
        "print(\"Outliers:\\n\", outliers)"
      ]
    },
    {
      "cell_type": "code",
      "execution_count": null,
      "metadata": {},
      "outputs": [],
      "source": [
        "# Detect duplicate recrods in dataframe\n",
        "duplicates = df[df.duplicated(subset=['Contract No', \"NAICS\"], keep=False)]\n",
        "print(\"Duplicate Records:\\n\", duplicates)"
      ]
    },
    {
      "cell_type": "code",
      "execution_count": null,
      "metadata": {},
      "outputs": [],
      "source": [
        "# Standardize text data\n",
        "df['Contract No'] = df['Contract No'].str.upper()\n",
        "print(\"Standardized Contract No:\\n\", df['Contract No'])"
      ]
    },
    {
      "cell_type": "code",
      "execution_count": null,
      "metadata": {},
      "outputs": [],
      "source": [
        "# Convert 'NAICS' column to string type\n",
        "df['NAICS'] = df['NAICS'].astype(str)\n",
        "df.info()"
      ]
    },
    {
      "cell_type": "code",
      "execution_count": null,
      "metadata": {},
      "outputs": [],
      "source": [
        "# Validate data ranges to ensure they are within expected ranges\n",
        "invalid_naics = df[~df['NAICS'].str.match(r'^\\d{6}$')] # Check if NAICS codes are 6 digits\n",
        "print(\"Invalid NAICS Codes:\\n\", invalid_naics)"
      ]
    },
    {
      "cell_type": "code",
      "execution_count": null,
      "metadata": {},
      "outputs": [],
      "source": [
        "# Ensure NAICS values are only six digits and remove any values after six digits\n",
        "df['NAICS'] = df['NAICS'].str[:6]\n",
        "print(\"Invalid NAICS Codes Corrected:\\n\", df['NAICS'])"
      ]
    },
    {
      "cell_type": "code",
      "execution_count": null,
      "metadata": {},
      "outputs": [],
      "source": [
        "invalid_naics = df[~df['NAICS'].str.match(r'^\\d{6}$')] # Check if NAICS codes are 6 digits\n",
        "print(\"Invalid NAICS Codes:\\n\", invalid_naics)"
      ]
    },
    {
      "cell_type": "code",
      "execution_count": null,
      "metadata": {},
      "outputs": [],
      "source": [
        "# Count unique values in a column\n",
        "unique_naics = df['NAICS'].nunique()\n",
        "\n",
        "# Count unique NAICS in Fiscal Year 2024 where fiscal year is 10/1/2023 - 9/30/2024\n",
        "fy_2024 = df[(df['Award Date'] >= '2023-10-01') & (df['Award Date'] <= '2024-09-30')]\n",
        "\n",
        "# Count unique NAICS in Fiscal Year 2023\n",
        "fy_2023 = df[(df['Award Date'] >= '2022-10-01') & (df['Award Date'] <= '2023-09-30')]\n",
        "unique_fy23_naics = fy_2023['NAICS'].nunique()\n",
        "\n",
        "# Count unique NAICS in Fiscal Year 2022\n",
        "fy_2022 = df[(df['Award Date'] >= '2021-10-01') & (df['Award Date'] <= '2022-09-30')]\n",
        "unique_fy22_naics = fy_2022['NAICS'].nunique()\n",
        "\n",
        "unique_fy24_naics = fy_2024['NAICS'].nunique()\n",
        "print(\"Unique NAICS Codes:\", unique_naics)\n",
        "print(\"Unique NAICS Codes in FY 2024:\", unique_fy24_naics)\n",
        "print(\"Unique NAICS Codes in FY 2023:\", unique_fy23_naics)\n",
        "print(\"Unique NAICS Codes in FY 2022:\", unique_fy22_naics)"
      ]
    },
    {
      "cell_type": "code",
      "execution_count": null,
      "metadata": {},
      "outputs": [],
      "source": [
        "# Identify how many instances each NAICS code had where it was labeled as SB in the \"Size Status\" column\n",
        "sb_naics = df[df['Size Status'] == 'SB']\n",
        "sb_naics_count = sb_naics['NAICS'].value_counts()\n",
        "# only dispaly NAICS code with a count greater than 2\n",
        "sb_naics_count = sb_naics_count[sb_naics_count > 2]\n",
        "print(\"SB NAICS Codes:\\n\", sb_naics_count)\n",
        "# print(\"SB NAICS Codes:\\n\", sb_naics_count)"
      ]
    },
    {
      "cell_type": "code",
      "execution_count": null,
      "metadata": {},
      "outputs": [],
      "source": [
        "#Check for inconsistent formatting across NAICS codes to ensure no more than 6 digits\n",
        "inconsistent_naics = df[~df['NAICS'].str.match(r'^\\d{6}$')]\n",
        "print(\"Inconsistent NAICS Codes:\\n\", inconsistent_naics)"
      ]
    },
    {
      "cell_type": "code",
      "execution_count": null,
      "metadata": {},
      "outputs": [],
      "source": [
        "# convert contract number dtype to str dtype\n",
        "df['Contract No'] = df['Contract No'].astype(str)\n",
        "df.info()"
      ]
    },
    {
      "cell_type": "code",
      "execution_count": null,
      "metadata": {},
      "outputs": [],
      "source": [
        "# Convert 'Months Remaining' to integer type\n",
        "df['Months Remaining'] = pd.to_numeric(df['Months Remaining'], errors='coerce')\n",
        "df.dtypes"
      ]
    },
    {
      "cell_type": "code",
      "execution_count": null,
      "metadata": {},
      "outputs": [],
      "source": [
        "inconsistent_contract_no = df[~df['Contract No'].str.match(r'^\\d{13}$')] # Check if Contract No. codes are 13 digits\n",
        "print(\"Inconsistent Contract Numbers:\\n\", inconsistent_contract_no)"
      ]
    },
    {
      "cell_type": "code",
      "execution_count": null,
      "metadata": {},
      "outputs": [],
      "source": [
        "# Identify rows with multiple issues\n",
        "issues = df.isnull().any(axis=1) | (df['SB Dollars'] < 0) | (~df['NAICS'].str.match(r'^\\d{6}$')) | (~df['Contract No'].str.match(r'^\\d{13}$'))\n",
        "print(\"Rows with Issues:\\n\", df[issues])"
      ]
    }
  ],
  "metadata": {
    "kernelspec": {
      "display_name": "base",
      "language": "python",
      "name": "python3"
    },
    "language_info": {
      "codemirror_mode": {
        "name": "ipython",
        "version": 3
      },
      "file_extension": ".py",
      "mimetype": "text/x-python",
      "name": "python",
      "nbconvert_exporter": "python",
      "pygments_lexer": "ipython3",
      "version": "3.12.7"
    }
  },
  "nbformat": 4,
  "nbformat_minor": 2
}
